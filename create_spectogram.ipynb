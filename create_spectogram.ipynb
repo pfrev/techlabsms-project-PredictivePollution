{
 "cells": [
  {
   "cell_type": "markdown",
   "metadata": {},
   "source": [
    "Spectogram generator from https://github.com/aquietlife/whisp/"
   ]
  },
  {
   "cell_type": "code",
   "execution_count": 3,
   "metadata": {},
   "outputs": [],
   "source": [
    "import os\n",
    "import imageio\n",
    "\n",
    "import matplotlib\n",
    "matplotlib.use('agg')\n",
    "\n",
    "from matplotlib import pyplot as plt\n",
    "from matplotlib import cm\n",
    "from tqdm import tqdm\n",
    "import pylab\n",
    "\n",
    "import librosa\n",
    "from librosa import display\n",
    "import numpy as np"
   ]
  },
  {
   "cell_type": "code",
   "execution_count": 4,
   "metadata": {},
   "outputs": [],
   "source": [
    "def create_spectrogram(source_filepath, destination_filepath):    \n",
    "    y, sr = librosa.load(source_filepath, sr = 22050) # Use the default sampling rate of 22,050 Hz\n",
    "\n",
    "    # Pre-emphasis filter\n",
    "    pre_emphasis = 0.97\n",
    "    y = np.append(y[0], y[1:] - pre_emphasis * y[:-1])\n",
    "\n",
    "    # Compute spectrogram\n",
    "    M = librosa.feature.melspectrogram(y, \n",
    "                                       sr, \n",
    "                                       fmax = sr/2, # Maximum frequency to be used on the on the MEL scale        \n",
    "                                       n_fft=2048, \n",
    "                                       hop_length=512, \n",
    "                                       n_mels = 96, # As per the Google Large-scale audio CNN paper\n",
    "                                       power = 2) # Power = 2 refers to squared amplitude\n",
    "    # Power in DB\n",
    "    log_power = librosa.power_to_db(M, ref=np.max)# Covert to dB (log) scale\n",
    "\n",
    "    # Plotting the spectrogram and save as JPG without axes (just the image)\n",
    "    pylab.figure(figsize=(5,5)) #was 14, 5\n",
    "    pylab.axis('off') \n",
    "    pylab.axes([0., 0., 1., 1.], frameon=False, xticks=[], yticks=[]) # Remove the white edge\n",
    "    librosa.display.specshow(log_power, cmap=cm.jet)\n",
    "    print(destination_filepath)\n",
    "    pylab.savefig(destination_filepath, bbox_inches=None, pad_inches=0)\n",
    "    pylab.close()\n",
    "\n",
    "#create_spectrogram(src, dest)"
   ]
  },
  {
   "cell_type": "code",
   "execution_count": 5,
   "metadata": {},
   "outputs": [],
   "source": [
    "soundfile_folder = 'datasets/ESC-50_engine/'\n",
    "filelist = os.listdir(soundfile_folder)\n",
    "dest_folder = 'datasets/ESC-50_engine_spectograms/'"
   ]
  },
  {
   "cell_type": "code",
   "execution_count": 6,
   "metadata": {},
   "outputs": [
    {
     "name": "stdout",
     "output_type": "stream",
     "text": [
      "['1-18527-A-44.wav', '1-18527-B-44.wav', '1-22882-A-44.wav', '1-50454-A-44.wav', '1-50455-A-44.wav', '1-50661-A-44.wav', '1-61261-A-44.wav', '1-62565-A-44.wav', '2-106014-A-44.wav', '2-106015-A-44.wav', '2-106015-B-44.wav', '2-106486-A-44.wav', '2-106487-A-44.wav', '2-107228-A-44.wav', '2-107228-B-44.wav', '2-78651-A-44.wav', '3-115382-A-44.wav', '3-119455-A-44.wav', '3-128160-A-44.wav', '3-141240-A-44.wav', '3-141240-B-44.wav', '3-146186-A-44.wav', '3-154758-A-44.wav', '3-259622-A-44.wav', '4-171652-A-44.wav', '4-186935-A-44.wav', '4-186936-A-44.wav', '4-186938-A-44.wav', '4-186940-A-44.wav', '4-186962-A-44.wav', '4-195451-A-44.wav', '4-201988-A-44.wav', '5-209992-A-44.wav', '5-209992-B-44.wav', '5-232272-A-44.wav', '5-235507-A-44.wav', '5-240671-A-44.wav', '5-243773-A-44.wav', '5-243773-B-44.wav', '5-243783-A-44.wav']\n"
     ]
    }
   ],
   "source": [
    "print(filelist)"
   ]
  },
  {
   "cell_type": "code",
   "execution_count": 7,
   "metadata": {},
   "outputs": [],
   "source": [
    "try:\n",
    "    os.mkdir(dest_folder)\n",
    "except:\n",
    "    print(\"error making destination folder, already exist?\")"
   ]
  },
  {
   "cell_type": "code",
   "execution_count": 8,
   "metadata": {},
   "outputs": [
    {
     "name": "stdout",
     "output_type": "stream",
     "text": [
      "1-18527-A-44\n"
     ]
    }
   ],
   "source": [
    "print(filelist[0][:-4])"
   ]
  },
  {
   "cell_type": "code",
   "execution_count": 9,
   "metadata": {},
   "outputs": [
    {
     "name": "stdout",
     "output_type": "stream",
     "text": [
      "datasets/ESC-50_engine_spectograms/1-18527-A-44.jpg\n",
      "datasets/ESC-50_engine_spectograms/1-18527-B-44.jpg\n",
      "datasets/ESC-50_engine_spectograms/1-22882-A-44.jpg\n",
      "datasets/ESC-50_engine_spectograms/1-50454-A-44.jpg\n",
      "datasets/ESC-50_engine_spectograms/1-50455-A-44.jpg\n",
      "datasets/ESC-50_engine_spectograms/1-50661-A-44.jpg\n",
      "datasets/ESC-50_engine_spectograms/1-61261-A-44.jpg\n",
      "datasets/ESC-50_engine_spectograms/1-62565-A-44.jpg\n",
      "datasets/ESC-50_engine_spectograms/2-106014-A-44.jpg\n",
      "datasets/ESC-50_engine_spectograms/2-106015-A-44.jpg\n",
      "datasets/ESC-50_engine_spectograms/2-106015-B-44.jpg\n",
      "datasets/ESC-50_engine_spectograms/2-106486-A-44.jpg\n",
      "datasets/ESC-50_engine_spectograms/2-106487-A-44.jpg\n",
      "datasets/ESC-50_engine_spectograms/2-107228-A-44.jpg\n",
      "datasets/ESC-50_engine_spectograms/2-107228-B-44.jpg\n",
      "datasets/ESC-50_engine_spectograms/2-78651-A-44.jpg\n",
      "datasets/ESC-50_engine_spectograms/3-115382-A-44.jpg\n",
      "datasets/ESC-50_engine_spectograms/3-119455-A-44.jpg\n",
      "datasets/ESC-50_engine_spectograms/3-128160-A-44.jpg\n",
      "datasets/ESC-50_engine_spectograms/3-141240-A-44.jpg\n",
      "datasets/ESC-50_engine_spectograms/3-141240-B-44.jpg\n",
      "datasets/ESC-50_engine_spectograms/3-146186-A-44.jpg\n",
      "datasets/ESC-50_engine_spectograms/3-154758-A-44.jpg\n",
      "datasets/ESC-50_engine_spectograms/3-259622-A-44.jpg\n",
      "datasets/ESC-50_engine_spectograms/4-171652-A-44.jpg\n",
      "datasets/ESC-50_engine_spectograms/4-186935-A-44.jpg\n",
      "datasets/ESC-50_engine_spectograms/4-186936-A-44.jpg\n",
      "datasets/ESC-50_engine_spectograms/4-186938-A-44.jpg\n",
      "datasets/ESC-50_engine_spectograms/4-186940-A-44.jpg\n",
      "datasets/ESC-50_engine_spectograms/4-186962-A-44.jpg\n",
      "datasets/ESC-50_engine_spectograms/4-195451-A-44.jpg\n",
      "datasets/ESC-50_engine_spectograms/4-201988-A-44.jpg\n",
      "datasets/ESC-50_engine_spectograms/5-209992-A-44.jpg\n",
      "datasets/ESC-50_engine_spectograms/5-209992-B-44.jpg\n",
      "datasets/ESC-50_engine_spectograms/5-232272-A-44.jpg\n",
      "datasets/ESC-50_engine_spectograms/5-235507-A-44.jpg\n",
      "datasets/ESC-50_engine_spectograms/5-240671-A-44.jpg\n",
      "datasets/ESC-50_engine_spectograms/5-243773-A-44.jpg\n",
      "datasets/ESC-50_engine_spectograms/5-243773-B-44.jpg\n",
      "datasets/ESC-50_engine_spectograms/5-243783-A-44.jpg\n"
     ]
    }
   ],
   "source": [
    "for i in filelist:\n",
    "    create_spectrogram(soundfile_folder + i, dest_folder + i[:-4] + \".jpg\")"
   ]
  }
 ],
 "metadata": {
  "kernelspec": {
   "display_name": "Python 3",
   "language": "python",
   "name": "python3"
  },
  "language_info": {
   "codemirror_mode": {
    "name": "ipython",
    "version": 3
   },
   "file_extension": ".py",
   "mimetype": "text/x-python",
   "name": "python",
   "nbconvert_exporter": "python",
   "pygments_lexer": "ipython3",
   "version": "3.8.5"
  }
 },
 "nbformat": 4,
 "nbformat_minor": 2
}
