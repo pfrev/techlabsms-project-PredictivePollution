{
 "cells": [
  {
   "cell_type": "markdown",
   "metadata": {},
   "source": [
    "### Merging different dataframes"
   ]
  },
  {
   "cell_type": "code",
   "execution_count": 2,
   "metadata": {},
   "outputs": [],
   "source": [
    "import pandas as pd"
   ]
  },
  {
   "cell_type": "code",
   "execution_count": 13,
   "metadata": {},
   "outputs": [],
   "source": [
    "benzin_learn_csv = '/home/lt/techlabs/project-st-19-01-PredictivePollution/datasets/dataset1_3sec/benzin/benzin_learn.csv'\n",
    "benzin_val_csv = '/home/lt/techlabs/project-st-19-01-PredictivePollution/datasets/dataset1_3sec/benzin/benzin_val.csv'\n",
    "benzin_test_csv = csv = '/home/lt/techlabs/project-st-19-01-PredictivePollution/datasets/dataset1_3sec/benzin/benzin_test.csv'\n",
    "diesel_learn_csv = '/home/lt/techlabs/project-st-19-01-PredictivePollution/datasets/dataset1_3sec/diesel/diesel_learn.csv'\n",
    "diesel_val_csv = '/home/lt/techlabs/project-st-19-01-PredictivePollution/datasets/dataset1_3sec/diesel/diesel_val.csv'\n",
    "diesel_test_csv = '/home/lt/techlabs/project-st-19-01-PredictivePollution/datasets/dataset1_3sec/diesel/diesel_test.csv'\n"
   ]
  },
  {
   "cell_type": "code",
   "execution_count": 14,
   "metadata": {},
   "outputs": [],
   "source": [
    "benzin_learn_df = pd.read_csv(benzin_learn_csv)\n",
    "benzin_val_df = pd.read_csv(benzin_val_csv) \n",
    "benzin_test_df = pd.read_csv(benzin_test_csv)\n",
    "\n",
    "diesel_learn_df = pd.read_csv(diesel_learn_csv)\n",
    "diesel_val_df = pd.read_csv(diesel_val_csv) \n",
    "diesel_test_df = pd.read_csv(diesel_test_csv)\n",
    "\n"
   ]
  },
  {
   "cell_type": "code",
   "execution_count": 15,
   "metadata": {},
   "outputs": [],
   "source": [
    "frames = [benzin_learn_df, benzin_val_df, benzin_test_df, diesel_learn_df, diesel_val_df, diesel_test_df]"
   ]
  },
  {
   "cell_type": "code",
   "execution_count": 16,
   "metadata": {},
   "outputs": [],
   "source": [
    "result = pd.concat(frames)"
   ]
  },
  {
   "cell_type": "code",
   "execution_count": 25,
   "metadata": {},
   "outputs": [
    {
     "data": {
      "text/html": [
       "<div>\n",
       "<style scoped>\n",
       "    .dataframe tbody tr th:only-of-type {\n",
       "        vertical-align: middle;\n",
       "    }\n",
       "\n",
       "    .dataframe tbody tr th {\n",
       "        vertical-align: top;\n",
       "    }\n",
       "\n",
       "    .dataframe thead th {\n",
       "        text-align: right;\n",
       "    }\n",
       "</style>\n",
       "<table border=\"1\" class=\"dataframe\">\n",
       "  <thead>\n",
       "    <tr style=\"text-align: right;\">\n",
       "      <th></th>\n",
       "      <th>Unnamed: 0</th>\n",
       "      <th>Filename</th>\n",
       "      <th>Label</th>\n",
       "      <th>DS_Label</th>\n",
       "      <th>Path</th>\n",
       "    </tr>\n",
       "  </thead>\n",
       "  <tbody>\n",
       "    <tr>\n",
       "      <th>0</th>\n",
       "      <td>0</td>\n",
       "      <td>34 Satisfying Car Sound Compilation 2019 #Supe...</td>\n",
       "      <td>Benzin</td>\n",
       "      <td>learn</td>\n",
       "      <td>datasets/dataset1_3sec/benzin/benzin_learn</td>\n",
       "    </tr>\n",
       "    <tr>\n",
       "      <th>1</th>\n",
       "      <td>1</td>\n",
       "      <td>36 BEST OF MERCEDES-AMG SOUNDS! CLS63, E55, S6...</td>\n",
       "      <td>Benzin</td>\n",
       "      <td>learn</td>\n",
       "      <td>datasets/dataset1_3sec/benzin/benzin_learn</td>\n",
       "    </tr>\n",
       "    <tr>\n",
       "      <th>2</th>\n",
       "      <td>2</td>\n",
       "      <td>f1st_3.jpg</td>\n",
       "      <td>Benzin</td>\n",
       "      <td>learn</td>\n",
       "      <td>datasets/dataset1_3sec/benzin/benzin_learn</td>\n",
       "    </tr>\n",
       "    <tr>\n",
       "      <th>3</th>\n",
       "      <td>3</td>\n",
       "      <td>29 Driveclub 2016 All Cars, Engine Sounds and ...</td>\n",
       "      <td>Benzin</td>\n",
       "      <td>learn</td>\n",
       "      <td>datasets/dataset1_3sec/benzin/benzin_learn</td>\n",
       "    </tr>\n",
       "    <tr>\n",
       "      <th>4</th>\n",
       "      <td>4</td>\n",
       "      <td>29 Driveclub 2016 All Cars, Engine Sounds and ...</td>\n",
       "      <td>Benzin</td>\n",
       "      <td>learn</td>\n",
       "      <td>datasets/dataset1_3sec/benzin/benzin_learn</td>\n",
       "    </tr>\n",
       "  </tbody>\n",
       "</table>\n",
       "</div>"
      ],
      "text/plain": [
       "   Unnamed: 0                                           Filename   Label  \\\n",
       "0           0  34 Satisfying Car Sound Compilation 2019 #Supe...  Benzin   \n",
       "1           1  36 BEST OF MERCEDES-AMG SOUNDS! CLS63, E55, S6...  Benzin   \n",
       "2           2                                         f1st_3.jpg  Benzin   \n",
       "3           3  29 Driveclub 2016 All Cars, Engine Sounds and ...  Benzin   \n",
       "4           4  29 Driveclub 2016 All Cars, Engine Sounds and ...  Benzin   \n",
       "\n",
       "  DS_Label                                        Path  \n",
       "0    learn  datasets/dataset1_3sec/benzin/benzin_learn  \n",
       "1    learn  datasets/dataset1_3sec/benzin/benzin_learn  \n",
       "2    learn  datasets/dataset1_3sec/benzin/benzin_learn  \n",
       "3    learn  datasets/dataset1_3sec/benzin/benzin_learn  \n",
       "4    learn  datasets/dataset1_3sec/benzin/benzin_learn  "
      ]
     },
     "execution_count": 25,
     "metadata": {},
     "output_type": "execute_result"
    }
   ],
   "source": [
    "result.head()"
   ]
  },
  {
   "cell_type": "code",
   "execution_count": 26,
   "metadata": {},
   "outputs": [
    {
     "data": {
      "text/html": [
       "<div>\n",
       "<style scoped>\n",
       "    .dataframe tbody tr th:only-of-type {\n",
       "        vertical-align: middle;\n",
       "    }\n",
       "\n",
       "    .dataframe tbody tr th {\n",
       "        vertical-align: top;\n",
       "    }\n",
       "\n",
       "    .dataframe thead th {\n",
       "        text-align: right;\n",
       "    }\n",
       "</style>\n",
       "<table border=\"1\" class=\"dataframe\">\n",
       "  <thead>\n",
       "    <tr style=\"text-align: right;\">\n",
       "      <th></th>\n",
       "      <th>Unnamed: 0</th>\n",
       "      <th>Filename</th>\n",
       "      <th>Label</th>\n",
       "      <th>DS_Label</th>\n",
       "      <th>Path</th>\n",
       "    </tr>\n",
       "  </thead>\n",
       "  <tbody>\n",
       "    <tr>\n",
       "      <th>1414</th>\n",
       "      <td>1414</td>\n",
       "      <td>Ultimate Runaway Diesel Engine Collection-o4X8...</td>\n",
       "      <td>Diesel</td>\n",
       "      <td>val</td>\n",
       "      <td>datasets/dataset1_3sec/diesel/diesel_val</td>\n",
       "    </tr>\n",
       "    <tr>\n",
       "      <th>1415</th>\n",
       "      <td>1415</td>\n",
       "      <td>Ultimate Runaway Diesel Engine Collection-o4X8...</td>\n",
       "      <td>Diesel</td>\n",
       "      <td>val</td>\n",
       "      <td>datasets/dataset1_3sec/diesel/diesel_val</td>\n",
       "    </tr>\n",
       "    <tr>\n",
       "      <th>1416</th>\n",
       "      <td>1416</td>\n",
       "      <td>Diesel Engine Fails-BneTUTydCag_269.jpg</td>\n",
       "      <td>Diesel</td>\n",
       "      <td>val</td>\n",
       "      <td>datasets/dataset1_3sec/diesel/diesel_val</td>\n",
       "    </tr>\n",
       "    <tr>\n",
       "      <th>1417</th>\n",
       "      <td>1417</td>\n",
       "      <td>Diesel Engine Fails-BneTUTydCag_448.jpg</td>\n",
       "      <td>Diesel</td>\n",
       "      <td>val</td>\n",
       "      <td>datasets/dataset1_3sec/diesel/diesel_val</td>\n",
       "    </tr>\n",
       "    <tr>\n",
       "      <th>1418</th>\n",
       "      <td>1418</td>\n",
       "      <td>Diesel Engine Cold Start Compilation-NYbvP04UC...</td>\n",
       "      <td>Diesel</td>\n",
       "      <td>val</td>\n",
       "      <td>datasets/dataset1_3sec/diesel/diesel_val</td>\n",
       "    </tr>\n",
       "  </tbody>\n",
       "</table>\n",
       "</div>"
      ],
      "text/plain": [
       "      Unnamed: 0                                           Filename   Label  \\\n",
       "1414        1414  Ultimate Runaway Diesel Engine Collection-o4X8...  Diesel   \n",
       "1415        1415  Ultimate Runaway Diesel Engine Collection-o4X8...  Diesel   \n",
       "1416        1416            Diesel Engine Fails-BneTUTydCag_269.jpg  Diesel   \n",
       "1417        1417            Diesel Engine Fails-BneTUTydCag_448.jpg  Diesel   \n",
       "1418        1418  Diesel Engine Cold Start Compilation-NYbvP04UC...  Diesel   \n",
       "\n",
       "     DS_Label                                      Path  \n",
       "1414      val  datasets/dataset1_3sec/diesel/diesel_val  \n",
       "1415      val  datasets/dataset1_3sec/diesel/diesel_val  \n",
       "1416      val  datasets/dataset1_3sec/diesel/diesel_val  \n",
       "1417      val  datasets/dataset1_3sec/diesel/diesel_val  \n",
       "1418      val  datasets/dataset1_3sec/diesel/diesel_val  "
      ]
     },
     "execution_count": 26,
     "metadata": {},
     "output_type": "execute_result"
    }
   ],
   "source": [
    "result[12995:13000]"
   ]
  },
  {
   "cell_type": "code",
   "execution_count": 28,
   "metadata": {},
   "outputs": [],
   "source": [
    "result.to_csv('/home/lt/techlabs/project-st-19-01-PredictivePollution/datasets/dataset1_3sec/labels_dataset1_3sec.csv')"
   ]
  }
 ],
 "metadata": {
  "kernelspec": {
   "display_name": "Python 3",
   "language": "python",
   "name": "python3"
  },
  "language_info": {
   "codemirror_mode": {
    "name": "ipython",
    "version": 3
   },
   "file_extension": ".py",
   "mimetype": "text/x-python",
   "name": "python",
   "nbconvert_exporter": "python",
   "pygments_lexer": "ipython3",
   "version": "3.8.5"
  }
 },
 "nbformat": 4,
 "nbformat_minor": 2
}
