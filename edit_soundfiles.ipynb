{
 "cells": [
  {
   "cell_type": "markdown",
   "metadata": {},
   "source": [
    "Cuting/editing soundfiles with pydub http://pydub.com/"
   ]
  },
  {
   "cell_type": "code",
   "execution_count": null,
   "metadata": {},
   "outputs": [],
   "source": [
    "#pip install pydub"
   ]
  },
  {
   "cell_type": "code",
   "execution_count": 1,
   "metadata": {},
   "outputs": [],
   "source": [
    "import pydub\n",
    "import os"
   ]
  },
  {
   "cell_type": "code",
   "execution_count": 2,
   "metadata": {},
   "outputs": [],
   "source": [
    "def split_and_save(tgt_size, src_file, tgt_folder):\n",
    "    \n",
    "    soundf = pydub.AudioSegment.from_wav(src_file) #aktuell nur wav files -> mit if abfrage noch für mp3 anpassen\n",
    "    for i, chunk in enumerate(soundf[::tgt_size]):\n",
    "        #print(len(chunk))\n",
    "        if len(chunk) == tgt_size: #soundfile wird nur gespeichert wenn es der target size entspricht --> letztes file wird verworfen wenn es zu kurz ist. Kann man sicher noch elleganter lösen in dem man letztes file mit leerer datei auffült oderso\n",
    "            with open(tgt_folder + os.path.basename(src_file)[:-4] + \"_%s.wav\" % (i+1), \"wb\") as f:    \n",
    "                chunk.export(f, format=\"wav\")\n",
    "                \n",
    "    return()\n",
    "    "
   ]
  },
  {
   "cell_type": "code",
   "execution_count": 3,
   "metadata": {},
   "outputs": [],
   "source": [
    "# input für split funktion: ziellänge, quellordner bzw. datei, zielordner\n",
    "src_folder = '/home/lt/techlabs/project-st-19-01-PredictivePollution/datasets/ESC-50_engine/'\n",
    "tgt_folder = '/home/lt/techlabs/project-st-19-01-PredictivePollution/datasets/split_test/'\n",
    "tgt_size = 1000 #millisekunden"
   ]
  },
  {
   "cell_type": "code",
   "execution_count": 4,
   "metadata": {},
   "outputs": [
    {
     "name": "stdout",
     "output_type": "stream",
     "text": [
      "['5-235507-A-44.wav', '2-106015-B-44.wav', '4-186962-A-44.wav', '1-62565-A-44.wav', '4-186938-A-44.wav', '2-106487-A-44.wav', '1-50661-A-44.wav', '3-146186-A-44.wav', '5-243773-A-44.wav', '3-259622-A-44.wav', '2-107228-A-44.wav', '3-141240-B-44.wav', '4-186935-A-44.wav', '4-201988-A-44.wav', '5-243783-A-44.wav', '4-171652-A-44.wav', '1-50455-A-44.wav', '2-106014-A-44.wav', '3-119455-A-44.wav', '2-78651-A-44.wav', '4-186940-A-44.wav', '3-141240-A-44.wav', '4-195451-A-44.wav', '5-209992-A-44.wav', '2-106486-A-44.wav', '1-22882-A-44.wav', '2-106015-A-44.wav', '1-61261-A-44.wav', '1-18527-A-44.wav', '5-240671-A-44.wav', '1-50454-A-44.wav', '5-243773-B-44.wav', '5-209992-B-44.wav', '5-232272-A-44.wav', '1-18527-B-44.wav', '4-186936-A-44.wav', '3-128160-A-44.wav', '3-115382-A-44.wav', '3-154758-A-44.wav', '2-107228-B-44.wav']\n"
     ]
    }
   ],
   "source": [
    "datalist = os.listdir(src_folder)\n",
    "print(datalist)"
   ]
  },
  {
   "cell_type": "code",
   "execution_count": 5,
   "metadata": {},
   "outputs": [
    {
     "name": "stdout",
     "output_type": "stream",
     "text": [
      "5-235507-A-44.wav\n",
      "2-106015-B-44.wav\n",
      "4-186962-A-44.wav\n",
      "1-62565-A-44.wav\n",
      "4-186938-A-44.wav\n",
      "2-106487-A-44.wav\n",
      "1-50661-A-44.wav\n",
      "3-146186-A-44.wav\n",
      "5-243773-A-44.wav\n",
      "3-259622-A-44.wav\n",
      "2-107228-A-44.wav\n",
      "3-141240-B-44.wav\n",
      "4-186935-A-44.wav\n",
      "4-201988-A-44.wav\n",
      "5-243783-A-44.wav\n",
      "4-171652-A-44.wav\n",
      "1-50455-A-44.wav\n",
      "2-106014-A-44.wav\n",
      "3-119455-A-44.wav\n",
      "2-78651-A-44.wav\n",
      "4-186940-A-44.wav\n",
      "3-141240-A-44.wav\n",
      "4-195451-A-44.wav\n",
      "5-209992-A-44.wav\n",
      "2-106486-A-44.wav\n",
      "1-22882-A-44.wav\n",
      "2-106015-A-44.wav\n",
      "1-61261-A-44.wav\n",
      "1-18527-A-44.wav\n",
      "5-240671-A-44.wav\n",
      "1-50454-A-44.wav\n",
      "5-243773-B-44.wav\n",
      "5-209992-B-44.wav\n",
      "5-232272-A-44.wav\n",
      "1-18527-B-44.wav\n",
      "4-186936-A-44.wav\n",
      "3-128160-A-44.wav\n",
      "3-115382-A-44.wav\n",
      "3-154758-A-44.wav\n",
      "2-107228-B-44.wav\n"
     ]
    }
   ],
   "source": [
    "for file in datalist:\n",
    "    print(file)\n",
    "    src_file = src_folder + file\n",
    "    split_and_save(tgt_size, src_file, tgt_folder)"
   ]
  }
 ],
 "metadata": {
  "kernelspec": {
   "display_name": "Python 3",
   "language": "python",
   "name": "python3"
  },
  "language_info": {
   "codemirror_mode": {
    "name": "ipython",
    "version": 3
   },
   "file_extension": ".py",
   "mimetype": "text/x-python",
   "name": "python",
   "nbconvert_exporter": "python",
   "pygments_lexer": "ipython3",
   "version": "3.7.3"
  }
 },
 "nbformat": 4,
 "nbformat_minor": 2
}
