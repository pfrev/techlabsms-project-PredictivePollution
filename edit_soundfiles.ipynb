{
 "cells": [
  {
   "cell_type": "markdown",
   "metadata": {},
   "source": [
    "Cutting/editing soundfiles with pydub http://pydub.com/"
   ]
  },
  {
   "cell_type": "code",
   "execution_count": 1,
   "metadata": {},
   "outputs": [
    {
     "name": "stdout",
     "output_type": "stream",
     "text": [
      "Collecting pydub\n",
      "  Downloading pydub-0.25.1-py2.py3-none-any.whl (32 kB)\n",
      "Installing collected packages: pydub\n",
      "Successfully installed pydub-0.25.1\n",
      "Note: you may need to restart the kernel to use updated packages.\n"
     ]
    }
   ],
   "source": [
    "#pip install pydub"
   ]
  },
  {
   "cell_type": "code",
   "execution_count": 17,
   "metadata": {},
   "outputs": [],
   "source": [
    "import pydub\n",
    "import os"
   ]
  },
  {
   "cell_type": "code",
   "execution_count": 16,
   "metadata": {},
   "outputs": [],
   "source": [
    "def split_and_save(tgt_size, src_file, tgt_folder):\n",
    "    \n",
    "    soundf = pydub.AudioSegment.from_wav(src_file)\n",
    "    for i, chunk in enumerate(soundf[::tgt_size]):\n",
    "        if len(chunk) == tgt_size: #soundfile is only saved if equal to target size\n",
    "            with open(tgt_folder + os.path.basename(src_file)[:-4] + \"_%s.wav\" % (i+1), \"wb\") as f:    \n",
    "                chunk.export(f, format=\"wav\")\n",
    "    return()"
   ]
  },
  {
   "cell_type": "code",
   "execution_count": 18,
   "metadata": {},
   "outputs": [],
   "source": [
    "# input for split-function: target length, source and target path\n",
    "src_folder = 'C:/Users/paulo/Coding/techlabsms-project-PredictivePollution/datasets/ESC-50_engine/'\n",
    "tgt_folder = 'C:/Users/paulo/Coding/techlabsms-project-PredictivePollution/datasets/split_test/'\n",
    "tgt_size = 1000 #miliseconds"
   ]
  },
  {
   "cell_type": "code",
   "execution_count": 19,
   "metadata": {},
   "outputs": [
    {
     "name": "stdout",
     "output_type": "stream",
     "text": [
      "['1-18527-A-44.wav', '1-18527-B-44.wav', '1-22882-A-44.wav', '1-50454-A-44.wav', '1-50455-A-44.wav', '1-50661-A-44.wav', '1-61261-A-44.wav', '1-62565-A-44.wav', '2-106014-A-44.wav', '2-106015-A-44.wav', '2-106015-B-44.wav', '2-106486-A-44.wav', '2-106487-A-44.wav', '2-107228-A-44.wav', '2-107228-B-44.wav', '2-78651-A-44.wav', '3-115382-A-44.wav', '3-119455-A-44.wav', '3-128160-A-44.wav', '3-141240-A-44.wav', '3-141240-B-44.wav', '3-146186-A-44.wav', '3-154758-A-44.wav', '3-259622-A-44.wav', '4-171652-A-44.wav', '4-186935-A-44.wav', '4-186936-A-44.wav', '4-186938-A-44.wav', '4-186940-A-44.wav', '4-186962-A-44.wav', '4-195451-A-44.wav', '4-201988-A-44.wav', '5-209992-A-44.wav', '5-209992-B-44.wav', '5-232272-A-44.wav', '5-235507-A-44.wav', '5-240671-A-44.wav', '5-243773-A-44.wav', '5-243773-B-44.wav', '5-243783-A-44.wav']\n"
     ]
    }
   ],
   "source": [
    "datalist = os.listdir(src_folder)\n",
    "print(datalist)"
   ]
  },
  {
   "cell_type": "code",
   "execution_count": 21,
   "metadata": {},
   "outputs": [
    {
     "name": "stdout",
     "output_type": "stream",
     "text": [
      "1-18527-A-44.wav\n",
      "1-18527-B-44.wav\n",
      "1-22882-A-44.wav\n",
      "1-50454-A-44.wav\n",
      "1-50455-A-44.wav\n",
      "1-50661-A-44.wav\n",
      "1-61261-A-44.wav\n",
      "1-62565-A-44.wav\n",
      "2-106014-A-44.wav\n",
      "2-106015-A-44.wav\n",
      "2-106015-B-44.wav\n",
      "2-106486-A-44.wav\n",
      "2-106487-A-44.wav\n",
      "2-107228-A-44.wav\n",
      "2-107228-B-44.wav\n",
      "2-78651-A-44.wav\n",
      "3-115382-A-44.wav\n",
      "3-119455-A-44.wav\n",
      "3-128160-A-44.wav\n",
      "3-141240-A-44.wav\n",
      "3-141240-B-44.wav\n",
      "3-146186-A-44.wav\n",
      "3-154758-A-44.wav\n",
      "3-259622-A-44.wav\n",
      "4-171652-A-44.wav\n",
      "4-186935-A-44.wav\n",
      "4-186936-A-44.wav\n",
      "4-186938-A-44.wav\n",
      "4-186940-A-44.wav\n",
      "4-186962-A-44.wav\n",
      "4-195451-A-44.wav\n",
      "4-201988-A-44.wav\n",
      "5-209992-A-44.wav\n",
      "5-209992-B-44.wav\n",
      "5-232272-A-44.wav\n",
      "5-235507-A-44.wav\n",
      "5-240671-A-44.wav\n",
      "5-243773-A-44.wav\n",
      "5-243773-B-44.wav\n",
      "5-243783-A-44.wav\n"
     ]
    }
   ],
   "source": [
    "for file in datalist:\n",
    "    print(file)\n",
    "    src_file = src_folder + file\n",
    "    split_and_save(tgt_size, src_file, tgt_folder)"
   ]
  }
 ],
 "metadata": {
  "kernelspec": {
   "display_name": "Python 3",
   "language": "python",
   "name": "python3"
  },
  "language_info": {
   "codemirror_mode": {
    "name": "ipython",
    "version": 3
   },
   "file_extension": ".py",
   "mimetype": "text/x-python",
   "name": "python",
   "nbconvert_exporter": "python",
   "pygments_lexer": "ipython3",
   "version": "3.8.5"
  }
 },
 "nbformat": 4,
 "nbformat_minor": 2
}
