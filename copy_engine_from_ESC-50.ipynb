{
 "cells": [
  {
   "cell_type": "markdown",
   "metadata": {},
   "source": [
    "Script for copying engine soundfiles from ESC-50 datatset: https://github.com/karoldvl/ESC-50\n"
   ]
  },
  {
   "cell_type": "code",
   "execution_count": 1,
   "metadata": {},
   "outputs": [],
   "source": [
    "import pandas as pd\n",
    "import numpy as np\n",
    "import shutil"
   ]
  },
  {
   "cell_type": "code",
   "execution_count": 4,
   "metadata": {},
   "outputs": [],
   "source": [
    "data = pd.read_csv(\"C:/Users/paulo/Coding/techlabsms-project-PredictivePollution/ESC-50-master/meta/esc50.csv\") "
   ]
  },
  {
   "cell_type": "code",
   "execution_count": 5,
   "metadata": {},
   "outputs": [
    {
     "data": {
      "text/html": [
       "<div>\n",
       "<style scoped>\n",
       "    .dataframe tbody tr th:only-of-type {\n",
       "        vertical-align: middle;\n",
       "    }\n",
       "\n",
       "    .dataframe tbody tr th {\n",
       "        vertical-align: top;\n",
       "    }\n",
       "\n",
       "    .dataframe thead th {\n",
       "        text-align: right;\n",
       "    }\n",
       "</style>\n",
       "<table border=\"1\" class=\"dataframe\">\n",
       "  <thead>\n",
       "    <tr style=\"text-align: right;\">\n",
       "      <th></th>\n",
       "      <th>filename</th>\n",
       "      <th>fold</th>\n",
       "      <th>target</th>\n",
       "      <th>category</th>\n",
       "      <th>esc10</th>\n",
       "      <th>src_file</th>\n",
       "      <th>take</th>\n",
       "    </tr>\n",
       "  </thead>\n",
       "  <tbody>\n",
       "    <tr>\n",
       "      <th>0</th>\n",
       "      <td>1-100032-A-0.wav</td>\n",
       "      <td>1</td>\n",
       "      <td>0</td>\n",
       "      <td>dog</td>\n",
       "      <td>True</td>\n",
       "      <td>100032</td>\n",
       "      <td>A</td>\n",
       "    </tr>\n",
       "    <tr>\n",
       "      <th>1</th>\n",
       "      <td>1-100038-A-14.wav</td>\n",
       "      <td>1</td>\n",
       "      <td>14</td>\n",
       "      <td>chirping_birds</td>\n",
       "      <td>False</td>\n",
       "      <td>100038</td>\n",
       "      <td>A</td>\n",
       "    </tr>\n",
       "    <tr>\n",
       "      <th>2</th>\n",
       "      <td>1-100210-A-36.wav</td>\n",
       "      <td>1</td>\n",
       "      <td>36</td>\n",
       "      <td>vacuum_cleaner</td>\n",
       "      <td>False</td>\n",
       "      <td>100210</td>\n",
       "      <td>A</td>\n",
       "    </tr>\n",
       "    <tr>\n",
       "      <th>3</th>\n",
       "      <td>1-100210-B-36.wav</td>\n",
       "      <td>1</td>\n",
       "      <td>36</td>\n",
       "      <td>vacuum_cleaner</td>\n",
       "      <td>False</td>\n",
       "      <td>100210</td>\n",
       "      <td>B</td>\n",
       "    </tr>\n",
       "    <tr>\n",
       "      <th>4</th>\n",
       "      <td>1-101296-A-19.wav</td>\n",
       "      <td>1</td>\n",
       "      <td>19</td>\n",
       "      <td>thunderstorm</td>\n",
       "      <td>False</td>\n",
       "      <td>101296</td>\n",
       "      <td>A</td>\n",
       "    </tr>\n",
       "  </tbody>\n",
       "</table>\n",
       "</div>"
      ],
      "text/plain": [
       "            filename  fold  target        category  esc10  src_file take\n",
       "0   1-100032-A-0.wav     1       0             dog   True    100032    A\n",
       "1  1-100038-A-14.wav     1      14  chirping_birds  False    100038    A\n",
       "2  1-100210-A-36.wav     1      36  vacuum_cleaner  False    100210    A\n",
       "3  1-100210-B-36.wav     1      36  vacuum_cleaner  False    100210    B\n",
       "4  1-101296-A-19.wav     1      19    thunderstorm  False    101296    A"
      ]
     },
     "execution_count": 5,
     "metadata": {},
     "output_type": "execute_result"
    }
   ],
   "source": [
    "data.head()"
   ]
  },
  {
   "cell_type": "code",
   "execution_count": 7,
   "metadata": {},
   "outputs": [
    {
     "name": "stdout",
     "output_type": "stream",
     "text": [
      "               filename  fold  target category  esc10  src_file take\n",
      "74     1-18527-A-44.wav     1      44   engine  False     18527    A\n",
      "75     1-18527-B-44.wav     1      44   engine  False     18527    B\n",
      "116    1-22882-A-44.wav     1      44   engine  False     22882    A\n",
      "239    1-50454-A-44.wav     1      44   engine  False     50454    A\n",
      "240    1-50455-A-44.wav     1      44   engine  False     50455    A\n",
      "243    1-50661-A-44.wav     1      44   engine  False     50661    A\n",
      "305    1-61261-A-44.wav     1      44   engine  False     61261    A\n",
      "308    1-62565-A-44.wav     1      44   engine  False     62565    A\n",
      "433   2-106014-A-44.wav     2      44   engine  False    106014    A\n",
      "434   2-106015-A-44.wav     2      44   engine  False    106015    A\n",
      "435   2-106015-B-44.wav     2      44   engine  False    106015    B\n",
      "439   2-106486-A-44.wav     2      44   engine  False    106486    A\n",
      "440   2-106487-A-44.wav     2      44   engine  False    106487    A\n",
      "443   2-107228-A-44.wav     2      44   engine  False    107228    A\n",
      "444   2-107228-B-44.wav     2      44   engine  False    107228    B\n",
      "730    2-78651-A-44.wav     2      44   engine  False     78651    A\n",
      "846   3-115382-A-44.wav     3      44   engine  False    115382    A\n",
      "873   3-119455-A-44.wav     3      44   engine  False    119455    A\n",
      "899   3-128160-A-44.wav     3      44   engine  False    128160    A\n",
      "938   3-141240-A-44.wav     3      44   engine  False    141240    A\n",
      "939   3-141240-B-44.wav     3      44   engine  False    141240    B\n",
      "974   3-146186-A-44.wav     3      44   engine  False    146186    A\n",
      "1024  3-154758-A-44.wav     3      44   engine  False    154758    A\n",
      "1160  3-259622-A-44.wav     3      44   engine  False    259622    A\n",
      "1359  4-171652-A-44.wav     4      44   engine  False    171652    A\n",
      "1444  4-186935-A-44.wav     4      44   engine  False    186935    A\n",
      "1445  4-186936-A-44.wav     4      44   engine  False    186936    A\n",
      "1446  4-186938-A-44.wav     4      44   engine  False    186938    A\n",
      "1447  4-186940-A-44.wav     4      44   engine  False    186940    A\n",
      "1448  4-186962-A-44.wav     4      44   engine  False    186962    A\n",
      "1495  4-195451-A-44.wav     4      44   engine  False    195451    A\n",
      "1520  4-201988-A-44.wav     4      44   engine  False    201988    A\n",
      "1789  5-209992-A-44.wav     5      44   engine  False    209992    A\n",
      "1790  5-209992-B-44.wav     5      44   engine  False    209992    B\n",
      "1872  5-232272-A-44.wav     5      44   engine  False    232272    A\n",
      "1891  5-235507-A-44.wav     5      44   engine  False    235507    A\n",
      "1907  5-240671-A-44.wav     5      44   engine  False    240671    A\n",
      "1923  5-243773-A-44.wav     5      44   engine  False    243773    A\n",
      "1924  5-243773-B-44.wav     5      44   engine  False    243773    B\n",
      "1925  5-243783-A-44.wav     5      44   engine  False    243783    A\n"
     ]
    },
    {
     "data": {
      "text/plain": [
       "40"
      ]
     },
     "execution_count": 7,
     "metadata": {},
     "output_type": "execute_result"
    }
   ],
   "source": [
    "engine = data[data['category']==\"engine\"]\n",
    "print(engine)\n",
    "len(engine)"
   ]
  },
  {
   "cell_type": "code",
   "execution_count": 8,
   "metadata": {},
   "outputs": [
    {
     "name": "stdout",
     "output_type": "stream",
     "text": [
      "1-18527-A-44.wav\n",
      "1-18527-B-44.wav\n"
     ]
    },
    {
     "data": {
      "text/plain": [
       "pandas.core.frame.DataFrame"
      ]
     },
     "execution_count": 8,
     "metadata": {},
     "output_type": "execute_result"
    }
   ],
   "source": [
    "print(engine.values[0][0])\n",
    "print(engine.values[1][0])\n",
    "type(engine)"
   ]
  },
  {
   "cell_type": "code",
   "execution_count": 11,
   "metadata": {},
   "outputs": [],
   "source": [
    "path = \"C:/Users/paulo/Coding/techlabsms-project-PredictivePollution/ESC-50-master/audio\"\n",
    "targetpath = \"C:/Users/paulo/Coding/techlabsms-project-PredictivePollution/datasets/ESC-50_engine\""
   ]
  },
  {
   "cell_type": "code",
   "execution_count": 12,
   "metadata": {},
   "outputs": [
    {
     "name": "stdout",
     "output_type": "stream",
     "text": [
      "Copy: 1-18527-A-44.wav\n",
      "Copy: 1-18527-B-44.wav\n",
      "Copy: 1-22882-A-44.wav\n",
      "Copy: 1-50454-A-44.wav\n",
      "Copy: 1-50455-A-44.wav\n",
      "Copy: 1-50661-A-44.wav\n",
      "Copy: 1-61261-A-44.wav\n",
      "Copy: 1-62565-A-44.wav\n",
      "Copy: 2-106014-A-44.wav\n",
      "Copy: 2-106015-A-44.wav\n",
      "Copy: 2-106015-B-44.wav\n",
      "Copy: 2-106486-A-44.wav\n",
      "Copy: 2-106487-A-44.wav\n",
      "Copy: 2-107228-A-44.wav\n",
      "Copy: 2-107228-B-44.wav\n",
      "Copy: 2-78651-A-44.wav\n",
      "Copy: 3-115382-A-44.wav\n",
      "Copy: 3-119455-A-44.wav\n",
      "Copy: 3-128160-A-44.wav\n",
      "Copy: 3-141240-A-44.wav\n",
      "Copy: 3-141240-B-44.wav\n",
      "Copy: 3-146186-A-44.wav\n",
      "Copy: 3-154758-A-44.wav\n",
      "Copy: 3-259622-A-44.wav\n",
      "Copy: 4-171652-A-44.wav\n",
      "Copy: 4-186935-A-44.wav\n",
      "Copy: 4-186936-A-44.wav\n",
      "Copy: 4-186938-A-44.wav\n",
      "Copy: 4-186940-A-44.wav\n",
      "Copy: 4-186962-A-44.wav\n",
      "Copy: 4-195451-A-44.wav\n",
      "Copy: 4-201988-A-44.wav\n",
      "Copy: 5-209992-A-44.wav\n",
      "Copy: 5-209992-B-44.wav\n",
      "Copy: 5-232272-A-44.wav\n",
      "Copy: 5-235507-A-44.wav\n",
      "Copy: 5-240671-A-44.wav\n",
      "Copy: 5-243773-A-44.wav\n",
      "Copy: 5-243773-B-44.wav\n",
      "Copy: 5-243783-A-44.wav\n"
     ]
    }
   ],
   "source": [
    "for i, x in enumerate(engine.values[:]):\n",
    "    print(\"Copy: \"+ engine.values[i][0])\n",
    "    shutil.copy(path + \"/\" + engine.values[i][0], targetpath)"
   ]
  },
  {
   "cell_type": "code",
   "execution_count": null,
   "metadata": {},
   "outputs": [],
   "source": []
  }
 ],
 "metadata": {
  "kernelspec": {
   "display_name": "Python 3",
   "language": "python",
   "name": "python3"
  },
  "language_info": {
   "codemirror_mode": {
    "name": "ipython",
    "version": 3
   },
   "file_extension": ".py",
   "mimetype": "text/x-python",
   "name": "python",
   "nbconvert_exporter": "python",
   "pygments_lexer": "ipython3",
   "version": "3.8.5"
  }
 },
 "nbformat": 4,
 "nbformat_minor": 2
}
